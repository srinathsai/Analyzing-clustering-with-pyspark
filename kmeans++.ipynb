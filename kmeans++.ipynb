{
  "nbformat": 4,
  "nbformat_minor": 0,
  "metadata": {
    "colab": {
      "provenance": [],
      "collapsed_sections": []
    },
    "kernelspec": {
      "name": "python3",
      "display_name": "Python 3"
    },
    "language_info": {
      "name": "python"
    }
  },
  "cells": [
    {
      "cell_type": "markdown",
      "source": [
        "#BY SRINATH SAI TRIPURANENI - A20338902."
      ],
      "metadata": {
        "id": "r0-KYU2YVnn6"
      }
    },
    {
      "cell_type": "code",
      "execution_count": 1,
      "metadata": {
        "colab": {
          "base_uri": "https://localhost:8080/"
        },
        "id": "r2SQJG97auLi",
        "outputId": "b1c2e2ab-4180-479e-f5d9-f8604c6a2fe7"
      },
      "outputs": [
        {
          "output_type": "stream",
          "name": "stdout",
          "text": [
            "Looking in indexes: https://pypi.org/simple, https://us-python.pkg.dev/colab-wheels/public/simple/\n",
            "Requirement already satisfied: pyspark in /usr/local/lib/python3.7/dist-packages (3.3.0)\n",
            "Requirement already satisfied: py4j==0.10.9.5 in /usr/local/lib/python3.7/dist-packages (from pyspark) (0.10.9.5)\n"
          ]
        }
      ],
      "source": [
        "!pip install pyspark # installing pyspark "
      ]
    },
    {
      "cell_type": "code",
      "source": [
        "from pyspark import SparkContext\n",
        "sc= SparkContext(\"local\", \"Assignment-3, BDA 2022\") #initializing spark context."
      ],
      "metadata": {
        "id": "iQQUlt2KbHTL"
      },
      "execution_count": 2,
      "outputs": []
    },
    {
      "cell_type": "code",
      "source": [
        "import math\n",
        "import numpy as np  #importing necessary packages.\n",
        "import matplotlib.pyplot as plt\n"
      ],
      "metadata": {
        "id": "nLirNck6cXlb"
      },
      "execution_count": 3,
      "outputs": []
    },
    {
      "cell_type": "code",
      "source": [
        "textdata=sc.textFile('/content/data.txt') #reading the data."
      ],
      "metadata": {
        "id": "A61FzCrrhrse"
      },
      "execution_count": 4,
      "outputs": []
    },
    {
      "cell_type": "code",
      "source": [
        "main=textdata.map(lambda x: x.split()) #getting every line as list of by spliting based on space and use map function. "
      ],
      "metadata": {
        "id": "FFE8MeI1h6B6"
      },
      "execution_count": 5,
      "outputs": []
    },
    {
      "cell_type": "code",
      "source": [
        "textdata.unpersist() #unpersisting textdata which is not useful after this.\n",
        "#main.take(1)"
      ],
      "metadata": {
        "id": "OPPG-mJAiTAR",
        "colab": {
          "base_uri": "https://localhost:8080/"
        },
        "outputId": "009eb758-5fbe-44c3-c43b-c60dc2f85fc3"
      },
      "execution_count": 6,
      "outputs": [
        {
          "output_type": "execute_result",
          "data": {
            "text/plain": [
              "/content/data.txt MapPartitionsRDD[1] at textFile at NativeMethodAccessorImpl.java:0"
            ]
          },
          "metadata": {},
          "execution_count": 6
        }
      ]
    },
    {
      "cell_type": "code",
      "source": [
        "def make_float(x): #a function constructed to make very point as float.\n",
        "  return float(x)\n",
        "  \n"
      ],
      "metadata": {
        "id": "zf60hO2SipTA"
      },
      "execution_count": 7,
      "outputs": []
    },
    {
      "cell_type": "code",
      "source": [
        "main=main.map(lambda x :[make_float(i) for i in x]) #here lambda takes every line in form of list and for loop is used to take every value of line in text form to float ."
      ],
      "metadata": {
        "id": "kfy9_BFKiy9i"
      },
      "execution_count": 8,
      "outputs": []
    },
    {
      "cell_type": "code",
      "source": [
        "#main.take(1)"
      ],
      "metadata": {
        "id": "4qJ5lsNFkC4v"
      },
      "execution_count": 9,
      "outputs": []
    },
    {
      "cell_type": "code",
      "source": [
        "main=main.zipWithIndex() # indexing every line because here every line is a datapoint and we need a certain number which will be index here, \n",
        "#to get cluster numbers or group them to certain clusters here it is also used for centeroids initialization.\n",
        "main=main.map(lambda x:(x[1],x[0])) ##reversing index number to key and list of values to values for easy computations."
      ],
      "metadata": {
        "id": "dPdHkymHkC_I"
      },
      "execution_count": 10,
      "outputs": []
    },
    {
      "cell_type": "code",
      "source": [
        "no_of_clusters=10   #initializing parameters.\n",
        "no_of_iterations=20"
      ],
      "metadata": {
        "id": "wsHiUhzEqBrO"
      },
      "execution_count": 11,
      "outputs": []
    },
    {
      "cell_type": "markdown",
      "source": [
        "#Initialization of one random centeroid."
      ],
      "metadata": {
        "id": "jAGRL_wapwpL"
      }
    },
    {
      "cell_type": "code",
      "source": [
        "centroids=sc.parallelize(main.takeSample(False,1)) # based on the research done in kmeans directly taking takesample of one cluster."
      ],
      "metadata": {
        "id": "YIudMGd8kpN1"
      },
      "execution_count": 12,
      "outputs": []
    },
    {
      "cell_type": "code",
      "source": [
        "#centroids.take(1)"
      ],
      "metadata": {
        "id": "oQKCDixZswE9"
      },
      "execution_count": 13,
      "outputs": []
    },
    {
      "cell_type": "markdown",
      "source": [
        "#Iterating untill we get 10 clusters"
      ],
      "metadata": {
        "id": "dS13QF2TQtVq"
      }
    },
    {
      "cell_type": "code",
      "source": [
        "centroids1=sc.broadcast(centroids.collect()) #broadcasting one centroid initially."
      ],
      "metadata": {
        "id": "tgo7Fhc41guV"
      },
      "execution_count": 14,
      "outputs": []
    },
    {
      "cell_type": "code",
      "source": [
        "#Main logic of below function is every point is passed here and we will have centroids updated and broadcasted for every iteration.\n",
        "# Now for each centroid in broadcasted value we will calculate euclidean distance with the point passed and store all distances in list.\n",
        "#As largest distance can be next centroid , we will take max of list square that and pass as one argument. And another arguement is point index for taking as next centroid.\n",
        "def computation_longest_distance(x):\n",
        "  distances=[] # list for determining max distance.\n",
        "  for i in centroids1.value: #iterating in centroid broadcasted list.\n",
        "    dist=0\n",
        "    for j in range(0,58): #as our points are 58 dimensions.\n",
        "      dist+=np.square(x[1][j]-i[1][j])\n",
        "    distances.append(math.sqrt(dist)) #logic of euclidean distance computation.\n",
        "  longest_distance=max(distances) # getting maxdistance from the list fro next centroid.\n",
        "  return (x[0],np.square(longest_distance)) #returning 2 parameters which are mentioned above."
      ],
      "metadata": {
        "id": "hS-vOZyr37HB"
      },
      "execution_count": 15,
      "outputs": []
    },
    {
      "cell_type": "markdown",
      "source": [
        "Experimenting idea of making next centroid before for loop "
      ],
      "metadata": {
        "id": "ck4dhkiR6UoR"
      }
    },
    {
      "cell_type": "code",
      "source": [
        "centroids1_indexes=sc.broadcast(centroids.keys().collect()) # taking keys for making next centroids."
      ],
      "metadata": {
        "id": "n1TOjPULFecT"
      },
      "execution_count": 16,
      "outputs": []
    },
    {
      "cell_type": "code",
      "source": [
        "\"\"\"for i in centroids1_indexes.value:\n",
        "  print(i) \"\"\""
      ],
      "metadata": {
        "id": "27wrxWZqGJ8v",
        "colab": {
          "base_uri": "https://localhost:8080/",
          "height": 35
        },
        "outputId": "c7f971c3-6e74-4e59-fa7a-59672a106855"
      },
      "execution_count": 17,
      "outputs": [
        {
          "output_type": "execute_result",
          "data": {
            "text/plain": [
              "'for i in centroids1_indexes.value:\\n  print(i) '"
            ],
            "application/vnd.google.colaboratory.intrinsic+json": {
              "type": "string"
            }
          },
          "metadata": {},
          "execution_count": 17
        }
      ]
    },
    {
      "cell_type": "code",
      "source": [
        " \"\"\"centroids_filtered1=main.filter(lambda x : x[0] not in centroids1_indexes.value)\n",
        " longest_distances_values_rdd1=centroids_filtered1.map(lambda x: computation_longest_distance(x))\"\"\"\n"
      ],
      "metadata": {
        "id": "LmpIWA1kHcTY",
        "colab": {
          "base_uri": "https://localhost:8080/",
          "height": 35
        },
        "outputId": "8afabbbb-f7e2-4dd5-9b62-12ff185584d4"
      },
      "execution_count": 18,
      "outputs": [
        {
          "output_type": "execute_result",
          "data": {
            "text/plain": [
              "'centroids_filtered1=main.filter(lambda x : x[0] not in centroids1_indexes.value)\\nlongest_distances_values_rdd1=centroids_filtered1.map(lambda x: computation_longest_distance(x))'"
            ],
            "application/vnd.google.colaboratory.intrinsic+json": {
              "type": "string"
            }
          },
          "metadata": {},
          "execution_count": 18
        }
      ]
    },
    {
      "cell_type": "code",
      "source": [
        "\"\"\"longest_distance_values1=longest_distances_values_rdd1.values()\"\"\""
      ],
      "metadata": {
        "id": "VHs8qIi1H3rN",
        "colab": {
          "base_uri": "https://localhost:8080/",
          "height": 35
        },
        "outputId": "c417bac7-c388-4981-9a05-22431f859f3c"
      },
      "execution_count": 19,
      "outputs": [
        {
          "output_type": "execute_result",
          "data": {
            "text/plain": [
              "'longest_distance_values1=longest_distances_values_rdd1.values()'"
            ],
            "application/vnd.google.colaboratory.intrinsic+json": {
              "type": "string"
            }
          },
          "metadata": {},
          "execution_count": 19
        }
      ]
    },
    {
      "cell_type": "code",
      "source": [
        "\"\"\"x=longest_distance_values1.sum()\n",
        "print(x)\"\"\""
      ],
      "metadata": {
        "colab": {
          "base_uri": "https://localhost:8080/",
          "height": 35
        },
        "id": "fJu8HEuPIJlX",
        "outputId": "328b3362-16e5-4f7d-9fe9-f08309afcb2c"
      },
      "execution_count": 20,
      "outputs": [
        {
          "output_type": "execute_result",
          "data": {
            "text/plain": [
              "'x=longest_distance_values1.sum()\\nprint(x)'"
            ],
            "application/vnd.google.colaboratory.intrinsic+json": {
              "type": "string"
            }
          },
          "metadata": {},
          "execution_count": 20
        }
      ]
    },
    {
      "cell_type": "code",
      "source": [
        "#max_dist=max_dist.map(lambda x:(x[0],x[1]/x))"
      ],
      "metadata": {
        "id": "rPkb3k-qJPZC"
      },
      "execution_count": 21,
      "outputs": []
    },
    {
      "cell_type": "markdown",
      "source": [
        "#Now iteratively making centroids"
      ],
      "metadata": {
        "id": "IPjofSVy6lNK"
      }
    },
    {
      "cell_type": "code",
      "source": [
        "from array import * #importing array module for random choice (will be  clearer in next loop.)"
      ],
      "metadata": {
        "id": "8mxG729LL1g5"
      },
      "execution_count": 22,
      "outputs": []
    },
    {
      "cell_type": "code",
      "source": [
        "for count in range(0,9):\n",
        "  centroids_filtered=main.filter(lambda x : x[0] not in centroids1_indexes.value) \n",
        "  # first we filter the points that are not centroids . This is because our aim is telling next centroid frompresent centroids for that we need to filter centroids for getting next perfect\n",
        "  #centroid.\n",
        "  longest_distances_rdd=centroids_filtered.map(lambda x:computation_longest_distance(x))\n",
        "  #from filtered rdd we calculate longest distance to centroids and will be getting  square of longest distance as value and point index as keys.\n",
        "  longest_distances_values=longest_distances_rdd.values()\n",
        "  #taking longest distances of each point in seperate value.\n",
        "  total_distance=longest_distances_values.sum()\n",
        "  #getting sum of all longest distances of each point with centroids , this is because we take probability of next point as centroid which is proportional to distance with centroids.\n",
        "  #that means larger the distance to centroid ,larger is the probabilty of next centroid it can be.\n",
        "  longest_distances_rdd=longest_distances_rdd.map(lambda x:(x[0],x[1]/total_distance))\n",
        "  #As probability means favourable outcomes/total outcomes, here total is total distance which is sum of all values and favourable outcome is longest distance of each point.\n",
        "  #Therefore dividing by total to convert into probabilities.\n",
        "  longest_distances_indices=[] #list to have indexes of each point that is in longest distance rdd.\n",
        "  longest_distances_values_original=[] #list to have probabilities of farness that is longest value of each point/total \n",
        "  for i in longest_distances_rdd.keys().collect():\n",
        "    longest_distances_indices.append(i)   #Logic to add all indexes \n",
        "  for i in longest_distances_rdd.values().collect():\n",
        "    longest_distances_values_original.append(i) #logic to add all probabilities of farness.\n",
        "  longest_distances_indices=array('i',longest_distances_indices) # converting the longest_distances_indices to array from list.\n",
        "  longest_distances_values_original=array('f',longest_distances_values_original) #converting the longest_distances_values_original to array from list.\n",
        "  #link referred for array declaration:- links referred:- https://www.studytonight.com/python-howtos/how-to-declare-an-array-in-python\n",
        "  random_centroid=np.random.choice(longest_distances_indices,1,p=longest_distances_values_original)\n",
        "  # we can get multiple points which can have almost same probability of farness but we need a point from all those which can be next centroid so taking random choice which takes \n",
        "  # one value and this is our next centroid.\n",
        "  # link reffered for logic of random choice is :- https://numpy.org/doc/stable/reference/random/generated/numpy.random.choice.html\n",
        "  next_centroid=main.filter(lambda x: x[0]==random_centroid)\n",
        "  #the next centroid will be filtered from main to add into intial one centroid rdd iteratively.\n",
        "  centroids=centroids+next_centroid # making union of next centroid to current centroids.\n",
        "  centroids1=sc.broadcast(centroids.collect()) # broadcasting after adding new centroids for next centroid determination process from the function computation_largest_distance.\n",
        "  centroids1_indexes=sc.broadcast(centroids.keys().collect()) # broadcasting new centroids rdd keys which will be useful in line one of this for loop.\n",
        "\n",
        "  #Link reffered for the Logic of kmeans++ centroids initiallization is:- https://www.geeksforgeeks.org/ml-k-means-algorithm/\n"
      ],
      "metadata": {
        "id": "88S8dFIRGeI9"
      },
      "execution_count": 23,
      "outputs": []
    },
    {
      "cell_type": "markdown",
      "source": [
        "now centroids is RDD in which there are 10 centroids that are obtained iteratively and this is the only difference between kmeans++ and kmeans."
      ],
      "metadata": {
        "id": "-8YrSkFTOLtC"
      }
    },
    {
      "cell_type": "markdown",
      "source": [
        "#As we got centroids after iteration now we have centroids, and clustering is as same as kmeans therefore copying my own code of kmeans."
      ],
      "metadata": {
        "id": "eZ0wtMCuO6O0"
      }
    },
    {
      "cell_type": "markdown",
      "source": [
        "#Euclidian distance calculation"
      ],
      "metadata": {
        "id": "UtFaWCWGSRg6"
      }
    },
    {
      "cell_type": "code",
      "source": [
        "def get_min_dist(distances):\n",
        "  return min(distances)    #A function constructed to return minimum distance from list of distances."
      ],
      "metadata": {
        "id": "Lw8IXyHOOH38"
      },
      "execution_count": 24,
      "outputs": []
    },
    {
      "cell_type": "code",
      "source": [
        "#The main logic of below function is every point is passed to this function. and we will be having 10 centroids with indices and 58 dimensions information as broadcasted variable.\n",
        "#Now for every centroid we will calculate euclidian distance to the one point and stored in list. At the same time we will be maintaining a hashmap in which distance is key and respective \n",
        "#centroid index as value. After iterating each centroid broadcasted we will be having hashmap of distance between one point to one centroid as key and respective centeroid index as value.\n",
        "#when we get min distance form that hashmap respective value which is centeroid index is returned.\n",
        "\n",
        "def calculate_euclidian_distance(x): # A function constructed to get which cluster index is minimum distant to evry single point.\n",
        "  cache={}#initializing hashmap of distances as key and centroid indices as valus.\n",
        "  distances=[] #initializing list of distances for determining minimum distance to get grouped with that respective centeroid.\n",
        "  for j in centroids.value: #Here centroids rdd is broadcasted and respectively looped .\n",
        "    dist=0\n",
        "    for i in range(0,58):  # as our points have 58 dimensions iterating for calculating euclidian distance.\n",
        "      dist+=(np.square(j[1][i]-x[1][i])) \n",
        "    euclidian_distance=math.sqrt(dist)\n",
        "    distances.append(euclidian_distance)   #Logic of euclidian distance.\n",
        "    cache[euclidian_distance]=j[0] #adding to hashmaps with each distance as key and respective centeroid index as value.\n",
        "  y=get_min_dist(distances)   #minimum distance is retrieved from the list from above function.\n",
        "  return (cache[y],np.square(y),x[1]) # the point which is nearest to a centroid that index is returned from hashmap, another parameter is cost function and another\n",
        "  #parameter is point values."
      ],
      "metadata": {
        "id": "t1dF8C53SYyT"
      },
      "execution_count": 25,
      "outputs": []
    },
    {
      "cell_type": "code",
      "source": [
        "def make_list(x):\n",
        "  return list(x) # A Function constructed to make list of every item."
      ],
      "metadata": {
        "id": "b-0lYClVSjkB"
      },
      "execution_count": 26,
      "outputs": []
    },
    {
      "cell_type": "code",
      "source": [
        "cost_function_per_iteration=[] # a list of cost function per iteration is initialized which will be appended in iteration loop."
      ],
      "metadata": {
        "id": "hgyo0OHSSkji"
      },
      "execution_count": 27,
      "outputs": []
    },
    {
      "cell_type": "code",
      "source": [
        "def makesum(x):\n",
        "  return np.sum(x[1]) #by using np module we sum list of elements."
      ],
      "metadata": {
        "id": "pkkcyZsvSsD1"
      },
      "execution_count": 28,
      "outputs": []
    },
    {
      "cell_type": "markdown",
      "source": [
        "#Logic of combining point to nearest cluster, taking new centeroid by averaging and repeating from step-2 for 20 iterations."
      ],
      "metadata": {
        "id": "NK_9-QrYS33s"
      }
    },
    {
      "cell_type": "code",
      "source": [
        "centroids=sc.broadcast(centroids.collect())\n",
        "for i in range(no_of_iterations+1):\n",
        "  clustersRDD=main.map(lambda x : calculate_euclidian_distance(x))\n",
        "  \"\"\"clustersRDD=clustersRDD.map(lambda x: (x[0],x[2]))  #after calculating euclidian distance taking centroid index and point information as map.\n",
        "  clustersRDD=clustersRDD.reduceByKey(lambda x :make_list(x)) #experimented by reducebykey but as mapside transformations are not neccesary for this operation, just taking group bykey. \n",
        "  #Main idea is grouping centeroids indices that have same key after eculidian distance.\n",
        "  #clustersRDD=clustersRDD.mapValues() # collecting all the values that are centeroids with same key grouped values.\n",
        "  #clustersRDD=clustersRDD.map(lambda x:(x[0],np.average(x[1],axis =0)))\"\"\" # we need to make average along axis=0 for getting new centeroid after combining nearet point to that cluster.\n",
        "  centroids=sc.broadcast(clustersRDD.map(lambda x: (x[0],x[2])).groupByKey().mapValues(make_list).map(lambda x:(x[0],np.average(x[1],axis=0))).collect())\n",
        " # Combining above logic in a line for reducing complexity of lines of code.\n",
        " #After passing every line to calculate_euclidian_distance we get nearest centeroid index and that point, so groupbykey is useful to group values for same key.\n",
        " #After grouping now we need to make average of new point and centroid for new centroid and this is done by doing np.average(x[1],axis=0) and this will be added to centroids broadcast.\n",
        " #Link referred for the reason of using groupby :-  https://www.hadoopinrealworld.com/what-is-the-difference-between-groupbykey-and-reducebykey-in-spark/#:~:text=Both%20reduceByKey%20and%20groupByKey%20result,do%20a%20map%20side%20combine.\n",
        "  cost_function_per_iteration.append(clustersRDD.map(lambda x : x[1]).sum())\n",
        "  # as cost function also returned in the function of calculation of euclidian distance it will be appended to list.\n",
        "\n"
      ],
      "metadata": {
        "id": "dShacrRVS5fl"
      },
      "execution_count": 29,
      "outputs": []
    },
    {
      "cell_type": "markdown",
      "source": [
        "#printing cost function for each iteration."
      ],
      "metadata": {
        "id": "4oqGJkc4TQ-A"
      }
    },
    {
      "cell_type": "code",
      "source": [
        "for i in range(1,len(cost_function_per_iteration)):\n",
        "  print('For Iteration -' + str(i) + ' , ' ' the cost_function is :' + str(cost_function_per_iteration[i-1])) # printing for each iteration."
      ],
      "metadata": {
        "colab": {
          "base_uri": "https://localhost:8080/"
        },
        "id": "_3K_HyHHTI_B",
        "outputId": "3038eac5-5f91-42da-8e1d-6fba76ca3312"
      },
      "execution_count": 30,
      "outputs": [
        {
          "output_type": "stream",
          "name": "stdout",
          "text": [
            "For Iteration -1 ,  the cost_function is :353321151.45895207\n",
            "For Iteration -2 ,  the cost_function is :299376206.8942056\n",
            "For Iteration -3 ,  the cost_function is :243253871.8586065\n",
            "For Iteration -4 ,  the cost_function is :228424865.87237266\n",
            "For Iteration -5 ,  the cost_function is :224299446.7104634\n",
            "For Iteration -6 ,  the cost_function is :221001787.07807767\n",
            "For Iteration -7 ,  the cost_function is :218027330.7842424\n",
            "For Iteration -8 ,  the cost_function is :215075820.94001105\n",
            "For Iteration -9 ,  the cost_function is :211988234.0318865\n",
            "For Iteration -10 ,  the cost_function is :209273968.74396503\n",
            "For Iteration -11 ,  the cost_function is :207803601.49845865\n",
            "For Iteration -12 ,  the cost_function is :206436827.486607\n",
            "For Iteration -13 ,  the cost_function is :204324739.78428644\n",
            "For Iteration -14 ,  the cost_function is :202700971.8847076\n",
            "For Iteration -15 ,  the cost_function is :202052314.4468814\n",
            "For Iteration -16 ,  the cost_function is :201614688.7530253\n",
            "For Iteration -17 ,  the cost_function is :201192705.87194228\n",
            "For Iteration -18 ,  the cost_function is :200447678.64260587\n",
            "For Iteration -19 ,  the cost_function is :199315598.5101588\n",
            "For Iteration -20 ,  the cost_function is :198922557.01764247\n"
          ]
        }
      ]
    },
    {
      "cell_type": "markdown",
      "source": [
        "#Plotting a graph"
      ],
      "metadata": {
        "id": "mDYrxRWVTeJI"
      }
    },
    {
      "cell_type": "code",
      "source": [
        "x=np.arange(1,22,1)\n",
        "#taking x-axis values."
      ],
      "metadata": {
        "id": "Or1ub8xKTfsp"
      },
      "execution_count": 31,
      "outputs": []
    },
    {
      "cell_type": "code",
      "source": [
        "fig, ax = plt.subplots() \n",
        "ax.plot(x, cost_function_per_iteration, color='blue',label=\"Cost function for Euclean distance in kmeans ++\")\n",
        "ax.legend(loc=0)\n",
        "plt.xlabel('Iterations')       #plotting k-means++ graph.\n",
        "plt.ylabel('cost function per iteration')\n",
        "plt.title('cost function per iteration vs iterations.')\n",
        "plt.show()"
      ],
      "metadata": {
        "colab": {
          "base_uri": "https://localhost:8080/",
          "height": 295
        },
        "id": "is4kCyKyTsUs",
        "outputId": "c0e3136a-04b7-4ad8-bfe6-fda09e999b49"
      },
      "execution_count": 32,
      "outputs": [
        {
          "output_type": "display_data",
          "data": {
            "text/plain": [
              "<Figure size 432x288 with 1 Axes>"
            ],
            "image/png": "[encoded data removed]"
          },
          "metadata": {
            "needs_background": "light"
          }
        }
      ]
    },
    {
      "cell_type": "markdown",
      "source": [
        "#Calculation of percentage change"
      ],
      "metadata": {
        "id": "16yEzml2U_2M"
      }
    },
    {
      "cell_type": "code",
      "source": [
        "#here as cost_function_per_iteration is stored in list first iteration would be that list[0] th element and 10th iterated value will be that list[9]th value.\n",
        "percetange_change=((cost_function_per_iteration[0]-cost_function_per_iteration[9])/(cost_function_per_iteration[0]))*100\n",
        "print(\" The percentage change in cost function from 1st iteration to 10th iteration using Euclidiean distance in kmeans ++ is :\" + str(percetange_change) + ' % ')\n",
        "#calculating percentage change from the list created as first element of list will be first iterated cost function. and last element will be last iterated cost function value."
      ],
      "metadata": {
        "colab": {
          "base_uri": "https://localhost:8080/"
        },
        "id": "WxEXo9mtU899",
        "outputId": "1c67f317-256d-4120-f8c5-9a564e6aad5d"
      },
      "execution_count": 33,
      "outputs": [
        {
          "output_type": "stream",
          "name": "stdout",
          "text": [
            " The percentage change in cost function from 1st iteration to 10th iteration using Euclidiean distance in kmeans ++ is :40.769476189064804 % \n"
          ]
        }
      ]
    },
    {
      "cell_type": "markdown",
      "source": [
        "#Writing centroids to file."
      ],
      "metadata": {
        "id": "l4Bs1ZSZVI_7"
      }
    },
    {
      "cell_type": "code",
      "source": [
        "output_cache=[]\n",
        "m=1\n",
        "for i in centroids.value:                                         #appending centroids points in list.\n",
        "  output_cache.append('Centroid ' + str(m) + ':-' + str(i[1]))\n",
        "  m+=1"
      ],
      "metadata": {
        "id": "s1PXFoBDVK9t"
      },
      "execution_count": 34,
      "outputs": []
    },
    {
      "cell_type": "code",
      "source": [
        "rdd=sc.parallelize(output_cache) #converting list to rdd\n",
        "rdd.coalesce(1).saveAsTextFile(\"centroids of kmeans++(2).txt\") # saving to file from rdd."
      ],
      "metadata": {
        "id": "ip0NQ2rEVO6R"
      },
      "execution_count": 35,
      "outputs": []
    },
    {
      "cell_type": "markdown",
      "source": [
        "#DELETING ALL RDDS FROM MEMORY FOR MEMORY EFFICIENCY."
      ],
      "metadata": {
        "id": "7k1u7xFuVh8Z"
      }
    },
    {
      "cell_type": "code",
      "source": [
        "rdd.unpersist()\n",
        "clustersRDD.unpersist()\n",
        "main.unpersist()\n",
        "centroids.unpersist()     #unpersisting as there willbe no uses after centroids file.\n",
        "longest_distances_rdd.unpersist()"
      ],
      "metadata": {
        "colab": {
          "base_uri": "https://localhost:8080/"
        },
        "id": "HMiiEBcEVjHu",
        "outputId": "edf028ad-9493-48c4-a478-4e4539c245a5"
      },
      "execution_count": 36,
      "outputs": [
        {
          "output_type": "execute_result",
          "data": {
            "text/plain": [
              "PythonRDD[194] at RDD at PythonRDD.scala:53"
            ]
          },
          "metadata": {},
          "execution_count": 36
        }
      ]
    },
    {
      "cell_type": "markdown",
      "source": [
        "#Comparision of performances of kmeans++ vs kmeans\n",
        "\n",
        "\n"
      ],
      "metadata": {
        "id": "Wv8moW8IHsV2"
      }
    },
    {
      "cell_type": "markdown",
      "source": [
        "![image.png](data:image/png;base64,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)"
      ],
      "metadata": {
        "id": "H2IFB-DfVScY"
      }
    },
    {
      "cell_type": "markdown",
      "source": [
        "# everything is done by me individually."
      ],
      "metadata": {
        "id": "vBdgXH3bVWKq"
      }
    }
  ]
}