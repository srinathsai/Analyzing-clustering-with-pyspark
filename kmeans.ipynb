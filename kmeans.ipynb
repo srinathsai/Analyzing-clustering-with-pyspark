{
  "nbformat": 4,
  "nbformat_minor": 0,
  "metadata": {
    "colab": {
      "provenance": [],
      "collapsed_sections": []
    },
    "kernelspec": {
      "name": "python3",
      "display_name": "Python 3"
    },
    "language_info": {
      "name": "python"
    }
  },
  "cells": [
    {
      "cell_type": "markdown",
      "source": [
        "#BY SRINATH SAI TRIPURANENI- A20338902."
      ],
      "metadata": {
        "id": "vO6CwuzPVxRr"
      }
    },
    {
      "cell_type": "code",
      "execution_count": 1,
      "metadata": {
        "colab": {
          "base_uri": "https://localhost:8080/"
        },
        "id": "MN37bBCY3lOG",
        "outputId": "e1aad831-4a73-42bb-bd90-fc66adade715"
      },
      "outputs": [
        {
          "output_type": "stream",
          "name": "stdout",
          "text": [
            "Looking in indexes: https://pypi.org/simple, https://us-python.pkg.dev/colab-wheels/public/simple/\n",
            "Requirement already satisfied: pyspark in /usr/local/lib/python3.7/dist-packages (3.3.0)\n",
            "Requirement already satisfied: py4j==0.10.9.5 in /usr/local/lib/python3.7/dist-packages (from pyspark) (0.10.9.5)\n"
          ]
        }
      ],
      "source": [
        "!pip install pyspark # installing pyspark"
      ]
    },
    {
      "cell_type": "code",
      "source": [
        "import matplotlib.pyplot as plt\n",
        "import seaborn as sns\n",
        "from pyspark import SparkContext, SparkConf      #importing necessary packages.\n",
        "import numpy as np "
      ],
      "metadata": {
        "id": "COtImXCXwLQF"
      },
      "execution_count": 2,
      "outputs": []
    },
    {
      "cell_type": "code",
      "source": [
        "textdata= '/content/data.txt' #loading data."
      ],
      "metadata": {
        "id": "eW9TP13zw3nq"
      },
      "execution_count": 3,
      "outputs": []
    },
    {
      "cell_type": "code",
      "source": [
        "sc = SparkContext(\"local\",\"Assignment-3: k-Means using PySpark\") #initializing spark context.\n"
      ],
      "metadata": {
        "id": "ZwvSUQIJxh2c"
      },
      "execution_count": 4,
      "outputs": []
    },
    {
      "cell_type": "code",
      "source": [
        "main=sc.textFile(textdata)\n",
        "main=main.map(lambda x : x.split())  # first raw data is converted to list of lists based on space by map function."
      ],
      "metadata": {
        "id": "wlSV9jpByxbN"
      },
      "execution_count": 5,
      "outputs": []
    },
    {
      "cell_type": "code",
      "source": [
        "#main.take(1)"
      ],
      "metadata": {
        "id": "bM7XZiF1zaYw"
      },
      "execution_count": 6,
      "outputs": []
    },
    {
      "cell_type": "code",
      "source": [
        "'''\n",
        "from decimal import Decimal\n",
        "converted=[]\n",
        "def converting_to_double(x):\n",
        "  for i in x:\n",
        "    i=str(i).replace(',',\"\")\n",
        "    #i=i.replace('' '')             #experimented by converting to decimal type for exact precision.\n",
        "    converted.append(Decimal(i))\n",
        "  return converted\n",
        "'''"
      ],
      "metadata": {
        "colab": {
          "base_uri": "https://localhost:8080/",
          "height": 53
        },
        "id": "qmjljsK5zpSY",
        "outputId": "024a4f13-60a5-4dd3-be13-0391ae147e68"
      },
      "execution_count": 7,
      "outputs": [
        {
          "output_type": "execute_result",
          "data": {
            "text/plain": [
              "'\\nfrom decimal import Decimal\\nconverted=[]\\ndef converting_to_double(x):\\n  for i in x:\\n    i=str(i).replace(\\',\\',\"\")\\n    #i=i.replace(\\'\\' \\'\\')             #experimented by converting to decimal type for exact precision.\\n    converted.append(Decimal(i))\\n  return converted\\n'"
            ],
            "application/vnd.google.colaboratory.intrinsic+json": {
              "type": "string"
            }
          },
          "metadata": {},
          "execution_count": 7
        }
      ]
    },
    {
      "cell_type": "code",
      "source": [
        "def converting_to_float(x):       #A function constructed to convert every value to float for computation.\n",
        "  return float(x)"
      ],
      "metadata": {
        "id": "LeRGtZm-SM6A"
      },
      "execution_count": 8,
      "outputs": []
    },
    {
      "cell_type": "code",
      "source": [
        "main=main.map(lambda x :[converting_to_float(i) for i in x]) #here first lambda takes every line as list due to map function applied above and used for loop to pass to converting_to_float function\n",
        "#for converting to float.\n",
        "#After experimenting with decimal finally took float due to it's advantages.\n",
        "#LINK referred for advantages of float over decimal type is :- https://blog.teclado.com/decimal-vs-float-in-python/"
      ],
      "metadata": {
        "id": "L00Fu6nN1Z6W"
      },
      "execution_count": 9,
      "outputs": []
    },
    {
      "cell_type": "code",
      "source": [
        "#main.take(1)\n",
        "main=main.zipWithIndex() # indexing every line because here every line is a datapoint and we need a certain number which will be index here, \n",
        "#to get cluster numbers or group them to certain clusters.\n",
        "main=main.map(lambda x: (x[1],x[0])) #reversing index number to key and list of values to values for easy computations."
      ],
      "metadata": {
        "id": "OJKwsxff1gGs"
      },
      "execution_count": 10,
      "outputs": []
    },
    {
      "cell_type": "code",
      "source": [
        "#main.take(1)"
      ],
      "metadata": {
        "id": "gW_tLbbs6wOF"
      },
      "execution_count": 11,
      "outputs": []
    },
    {
      "cell_type": "markdown",
      "source": [
        "#Centroids initialization"
      ],
      "metadata": {
        "id": "_vli96Yd_SQO"
      }
    },
    {
      "cell_type": "code",
      "source": [
        "no_of_clusters=10\n",
        "no_of_iterations=20 #initializing parameters."
      ],
      "metadata": {
        "id": "TQvJ96cuUZef"
      },
      "execution_count": 12,
      "outputs": []
    },
    {
      "cell_type": "code",
      "source": [
        "\"\"\"intial_centeroids=main.sample(False,0.00217344055640078243860030428168)\n",
        "intial_centeroids.count()\"\"\" # At first sample is tried and the value 0.00217344055640078243860030428168 is 10 clusters's fraction of total \n",
        "#disadvantage of just sample is everytime we execute we get different clusters .\n",
        "centroids=sc.parallelize(main.takeSample(False,no_of_clusters))\n",
        "#due to disadvantage of sample choosen takesample which randomly takes exact 10 clusters.\n",
        "#Link refered:-  https://stackoverflow.com/questions/32837530/how-to-get-a-sample-with-an-exact-sample-size-in-spark-rdd"
      ],
      "metadata": {
        "id": "t0oudVBB66H_"
      },
      "execution_count": 13,
      "outputs": []
    },
    {
      "cell_type": "code",
      "source": [
        "#centeroids.take(1)\n",
        "import math\n"
      ],
      "metadata": {
        "id": "VWoJAbSUJ897"
      },
      "execution_count": 14,
      "outputs": []
    },
    {
      "cell_type": "markdown",
      "source": [
        "#Euclidian distance calculation"
      ],
      "metadata": {
        "id": "oOjRc1YsbdRc"
      }
    },
    {
      "cell_type": "code",
      "source": [
        "def get_min_dist(distances):\n",
        "  \"\"\"min=math.inf\n",
        "  for i in distances:       #A function constructed to return minimum distance from list of distances.\n",
        "    min=min(i,min)\"\"\"\n",
        "  return min(distances)\n"
      ],
      "metadata": {
        "id": "TR6EF1ftafoG"
      },
      "execution_count": 15,
      "outputs": []
    },
    {
      "cell_type": "code",
      "source": [
        "#The main logic of below function is every point is passed to this function. and we will be having 10 centroids with indices and 58 dimensions information as broadcasted variable.\n",
        "#Now for every centroid we will calculate euclidian distance to the one point and stored in list. At the same time we will be maintaining a hashmap in which distance is key and respective \n",
        "#centroid index as value. After iterating each centroid broadcasted we will be having hashmap of distance between one point to one centroid as key and respective centeroid index as value.\n",
        "#when we get min distance form that hashmap respective value which is centeroid index is returned.\n",
        "\n",
        "\n",
        "def calculate_euclidian_distance(x): # A function constructed to get which cluster index is minimum distant to evry single point.\n",
        "  cache={} #initializing hashmap of distances as key and centroid indices as valus.\n",
        "  distances=[] #initializing list of distances for determining minimum distance to get grouped with that respective centeroid.\n",
        "  for j in centroids.value: #Here centroids rdd is broadcasted and respectively looped .\n",
        "    dist=0\n",
        "    for i in range(0,58): # as our points have 58 dimensions iterating for calculating euclidian distance.\n",
        "      dist+=(np.square(j[1][i]-x[1][i]))\n",
        "    euclidian_distance=math.sqrt(dist) #Logic of euclidian distance.\n",
        "    distances.append(euclidian_distance)\n",
        "    cache[euclidian_distance]=j[0] # adding to hashmaps with each distance as key and respective centeroid index as value.\n",
        "  y=get_min_dist(distances) #minimum distance is retrieved from the list from above function.\n",
        "  return (cache[y],np.square(y),x[1]) # the point which is nearest to a centroid that index is returned from hashmap, another parameter is cost function and another\n",
        "  #parameter is point values.\n"
      ],
      "metadata": {
        "id": "mQa6n4R3Mf2M"
      },
      "execution_count": 16,
      "outputs": []
    },
    {
      "cell_type": "code",
      "source": [
        "#centeroids=sc.broadcast(centeroids.collect())\n",
        "#z=main.map(lambda x: calculate_euclidian_distance(x))"
      ],
      "metadata": {
        "id": "8iTI5WZbeH8Q"
      },
      "execution_count": 17,
      "outputs": []
    },
    {
      "cell_type": "code",
      "source": [
        "def make_list(x):\n",
        "  return list(x)  # A Function constructed to make list of every item."
      ],
      "metadata": {
        "id": "LklygjDOhr2-"
      },
      "execution_count": 18,
      "outputs": []
    },
    {
      "cell_type": "code",
      "source": [
        "cost_function_per_iteration=[] # a list of cost function per iteration is initialized which will be appended in iteration loop."
      ],
      "metadata": {
        "id": "T8Xu9jBzoNCX"
      },
      "execution_count": 19,
      "outputs": []
    },
    {
      "cell_type": "markdown",
      "source": [
        "# Logic of combining point to nearest cluster, taking new centeroid by averaging and repeating from step-2 for 20 iterations."
      ],
      "metadata": {
        "id": "1k6DFaxdWnvS"
      }
    },
    {
      "cell_type": "code",
      "source": [
        "centroids=sc.broadcast(centroids.collect())\n",
        "for i in range(no_of_iterations+1):\n",
        "  clustersRDD=main.map(lambda x : calculate_euclidian_distance(x))\n",
        "  \"\"\"clustersRDD=clustersRDD.map(lambda x: (x[0],x[2]))  #after calculating euclidian distance taking centroid index and point information as map.\n",
        "  clustersRDD=clustersRDD.reduceByKey(lambda x :make_list(x)) #experimented by reducebykey but as mapside transformations are not neccesary for this operation, just taking group bykey. \n",
        "  #Main idea is grouping centeroids indices that have same key after eculidian distance.\n",
        "  #clustersRDD=clustersRDD.mapValues() # collecting all the values that are centeroids with same key grouped values.\n",
        "  #clustersRDD=clustersRDD.map(lambda x:(x[0],np.average(x[1],axis =0)))\"\"\" # we need to make average along axis=0 for getting new centeroid after combining nearet point to that cluster.\n",
        "  centroids=sc.broadcast(clustersRDD.map(lambda x: (x[0],x[2])).groupByKey().mapValues(make_list).map(lambda x:(x[0],np.average(x[1],axis=0))).collect())\n",
        " # Combining above logic in a line for reducing complexity of lines of code.\n",
        " #After passing every line to calculate_euclidian_distance we get nearest centeroid index and that point, so groupbykey is useful to group values for same key.\n",
        " #After grouping now we need to make average of new point and centroid for new centroid and this is done by doing np.average(x[1],axis=0) and this will be added to centroids broadcast.\n",
        " #Link referred for the reason of using groupby :-  https://www.hadoopinrealworld.com/what-is-the-difference-between-groupbykey-and-reducebykey-in-spark/#:~:text=Both%20reduceByKey%20and%20groupByKey%20result,do%20a%20map%20side%20combine.\n",
        "  cost_function_per_iteration.append(clustersRDD.map(lambda x : x[1]).sum())\n",
        "# as cost function also returned in the function of calculation of euclidian distance it will be appended to list.\n"
      ],
      "metadata": {
        "id": "Kuo-r3NnbNX5"
      },
      "execution_count": 20,
      "outputs": []
    },
    {
      "cell_type": "markdown",
      "source": [
        "# printing cost function for each iteration."
      ],
      "metadata": {
        "id": "ox_9OfAsXThy"
      }
    },
    {
      "cell_type": "code",
      "source": [
        "for i in range(1,len(cost_function_per_iteration)):\n",
        "  print('For Iteration -' + str(i) + ' , ' ' the cost_function is :' + str(cost_function_per_iteration[i-1])) # printing for each iteration."
      ],
      "metadata": {
        "colab": {
          "base_uri": "https://localhost:8080/"
        },
        "id": "lIYahkBtWnNN",
        "outputId": "6f1c0787-2aa9-44a7-ae7e-de274e5822fe"
      },
      "execution_count": 21,
      "outputs": [
        {
          "output_type": "stream",
          "name": "stdout",
          "text": [
            "For Iteration -1 ,  the cost_function is :785816660.250415\n",
            "For Iteration -2 ,  the cost_function is :699938263.6472006\n",
            "For Iteration -3 ,  the cost_function is :637132503.4745126\n",
            "For Iteration -4 ,  the cost_function is :554822399.3469319\n",
            "For Iteration -5 ,  the cost_function is :530085713.7237017\n",
            "For Iteration -6 ,  the cost_function is :513727063.2023392\n",
            "For Iteration -7 ,  the cost_function is :499988180.6649357\n",
            "For Iteration -8 ,  the cost_function is :487627529.65387887\n",
            "For Iteration -9 ,  the cost_function is :480000451.15133333\n",
            "For Iteration -10 ,  the cost_function is :474444113.9702053\n",
            "For Iteration -11 ,  the cost_function is :470391140.9089557\n",
            "For Iteration -12 ,  the cost_function is :467621152.9173128\n",
            "For Iteration -13 ,  the cost_function is :466135178.0535664\n",
            "For Iteration -14 ,  the cost_function is :464923947.5146854\n",
            "For Iteration -15 ,  the cost_function is :464063473.94921577\n",
            "For Iteration -16 ,  the cost_function is :463308142.2841933\n",
            "For Iteration -17 ,  the cost_function is :462695145.74513876\n",
            "For Iteration -18 ,  the cost_function is :462107293.8117376\n",
            "For Iteration -19 ,  the cost_function is :461703540.487936\n",
            "For Iteration -20 ,  the cost_function is :461449163.0535967\n"
          ]
        }
      ]
    },
    {
      "cell_type": "markdown",
      "source": [
        "#Plotting a graph"
      ],
      "metadata": {
        "id": "apIbf1-fh0Gn"
      }
    },
    {
      "cell_type": "code",
      "source": [
        "x=np.arange(1,22,1) #taking x-axis values."
      ],
      "metadata": {
        "id": "987p0RdQgr5o"
      },
      "execution_count": 22,
      "outputs": []
    },
    {
      "cell_type": "code",
      "source": [
        "fig, ax = plt.subplots()\n",
        "ax.plot(x, cost_function_per_iteration, color='blue',label=\"Cost function for Euclean distance in kmeans\")\n",
        "ax.legend(loc=0)\n",
        "plt.xlabel('Iterations')\n",
        "plt.ylabel('cost function per iteration')                      #plotting k-means graph.\n",
        "plt.title('cost function per iteration vs iterations.')\n",
        "plt.show()"
      ],
      "metadata": {
        "colab": {
          "base_uri": "https://localhost:8080/",
          "height": 295
        },
        "id": "TSwe4gJditjS",
        "outputId": "791e817d-8e24-4753-8bd0-d5ff77fbff33"
      },
      "execution_count": 23,
      "outputs": [
        {
          "output_type": "display_data",
          "data": {
            "text/plain": [
              "<Figure size 432x288 with 1 Axes>"
            ],
            "image/png": "[encoded data removed]"
          },
          "metadata": {
            "needs_background": "light"
          }
        }
      ]
    },
    {
      "cell_type": "markdown",
      "source": [
        "#Calculation of percentage change"
      ],
      "metadata": {
        "id": "KLH4Cq9klJdL"
      }
    },
    {
      "cell_type": "code",
      "source": [
        "#here as cost_function_per_iteration is stored in list first iteration would be that list[0] th element and 10th iterated value will be that list[9]th value.\n",
        "percetange_change=((cost_function_per_iteration[0]-cost_function_per_iteration[9])/(cost_function_per_iteration[0]))*100\n",
        "print(\" The percentage change in cost function from 1st iteration to 10th iteration using Euclidiean distance in kmeans is :\" + str(percetange_change) + ' % ') \n",
        "#calculating percentage change from the list created as first element of list will be first iterated cost function. and last element will be last iterated cost function value."
      ],
      "metadata": {
        "colab": {
          "base_uri": "https://localhost:8080/"
        },
        "id": "cBmarU_4lUEI",
        "outputId": "909bf1f5-a822-4231-9547-da15e930671a"
      },
      "execution_count": 24,
      "outputs": [
        {
          "output_type": "stream",
          "name": "stdout",
          "text": [
            " The percentage change in cost function from 1st iteration to 10th iteration using Euclidiean distance in kmeans is :39.62407035007187 % \n"
          ]
        }
      ]
    },
    {
      "cell_type": "markdown",
      "source": [
        "#Writing centroids to file."
      ],
      "metadata": {
        "id": "m8LgOrlifG9m"
      }
    },
    {
      "cell_type": "code",
      "source": [
        "output_cache=[]\n",
        "m=1\n",
        "for i in centroids.value:                                         #appending centroids points in list.\n",
        "  output_cache.append('Centroid ' + str(m) + ':-' + str(i[1]))\n",
        "  m+=1"
      ],
      "metadata": {
        "id": "Pma-GOM-fOFK"
      },
      "execution_count": 25,
      "outputs": []
    },
    {
      "cell_type": "code",
      "source": [
        "rdd=sc.parallelize(output_cache) #converting list to rdd\n",
        "rdd.coalesce(1).saveAsTextFile(\"centroids of kmeans(1).txt\") # saving to file from rdd."
      ],
      "metadata": {
        "id": "8F136PtQmnXi"
      },
      "execution_count": 26,
      "outputs": []
    },
    {
      "cell_type": "markdown",
      "source": [
        "#DELETING ALL RDDS FROM MEMORY FOR MEMORY EFFICIENCY."
      ],
      "metadata": {
        "id": "f_FwVuQKwB-h"
      }
    },
    {
      "cell_type": "code",
      "source": [
        "rdd.unpersist()\n",
        "clustersRDD.unpersist()\n",
        "main.unpersist()                               #unpersisting as there willbe no uses after centroids file.\n",
        "centroids.unpersist()\n"
      ],
      "metadata": {
        "id": "pIVt4GCywLBG"
      },
      "execution_count": 27,
      "outputs": []
    }
  ]
}